{
 "cells": [
  {
   "cell_type": "code",
   "execution_count": 10,
   "id": "ac3d9d43-9cf0-45c3-9ba3-e7fb585e32d2",
   "metadata": {},
   "outputs": [
    {
     "name": "stdout",
     "output_type": "stream",
     "text": [
      "Requirement already satisfied: numpy in c:\\users\\ruver\\pycharmprojects\\pythonproject\\venv\\lib\\site-packages (1.26.0)\n",
      "Note: you may need to restart the kernel to use updated packages.\n"
     ]
    },
    {
     "name": "stderr",
     "output_type": "stream",
     "text": [
      "\n",
      "[notice] A new release of pip is available: 23.3.1 -> 24.0\n",
      "[notice] To update, run: python.exe -m pip install --upgrade pip\n"
     ]
    }
   ],
   "source": [
    "pip install numpy\n"
   ]
  },
  {
   "cell_type": "markdown",
   "id": "8609d676-47a5-4f9d-bcc3-08dbfd2e6dfa",
   "metadata": {},
   "source": [
    "**solucion**"
   ]
  },
  {
   "cell_type": "code",
   "execution_count": 11,
   "id": "b32dfc95-e8e2-4c31-853e-474fb94086cd",
   "metadata": {},
   "outputs": [],
   "source": [
    "## El sistema debe calcular la probabilidad de encontrarlo en una posición en particular."
   ]
  },
  {
   "cell_type": "code",
   "execution_count": 15,
   "id": "a783d472-73d5-461b-a3c1-ad1a032ec39b",
   "metadata": {},
   "outputs": [],
   "source": [
    "import numpy as np\n",
    "import math\n",
    "\n",
    "def probpos(v,p):\n",
    "    nor = 0\n",
    "    for i in range(len(v)):\n",
    "        n = abs(v[i])**2\n",
    "        nor = nor + n\n",
    "    c = abs(v[p])**2\n",
    "    valf = abs(c/nor)\n",
    "    return valf"
   ]
  },
  {
   "cell_type": "code",
   "execution_count": 13,
   "id": "69158325-9e4b-4500-95e2-be6fa95f80f6",
   "metadata": {},
   "outputs": [],
   "source": [
    "##2. El sistema si se le da otro vector Ket debe buscar la probabilidad de transitar del primer vector al segundo."
   ]
  },
  {
   "cell_type": "code",
   "execution_count": 17,
   "id": "f3000fca-bcbc-4aa2-8604-df9e3d1500df",
   "metadata": {},
   "outputs": [],
   "source": [
    "def probket(Ki,Kf):\n",
    "    prodInter = np.vdot(ki, kf)\n",
    "    probabilidad = np.abs(prodInter)**2\n",
    "    return probabilidad"
   ]
  },
  {
   "cell_type": "code",
   "execution_count": null,
   "id": "2613da5a-54d9-4e60-b37b-e5656bd13d55",
   "metadata": {},
   "outputs": [],
   "source": [
    "##COMPLETE LOS RETOS DE PROGRAMACIÓN DEL CAPÍTULO 4.\n",
    "##Amplitud de transición. El sistema puede recibir dos vectores y calcular la probabilidad de transitar de el uno al otro después de hacer la observación\n"
   ]
  },
  {
   "cell_type": "code",
   "execution_count": null,
   "id": "1c9388d3-a280-42be-95b1-ce732ad47fc4",
   "metadata": {},
   "outputs": [],
   "source": [
    "def Amplit(v1,v2):\n",
    "    transicion = np.dot(np.conjugate(v1),v2)\n",
    "\n",
    "    return np.abs(transicion)**2"
   ]
  },
  {
   "cell_type": "code",
   "execution_count": null,
   "id": "4ad32308-b6e3-4b98-9051-709f5f5710c9",
   "metadata": {},
   "outputs": [],
   "source": [
    "##. Ahora con una matriz que describa un observable y un vector ket, el sistema revisa que la matriz sea hermitiana, y si lo es, calcula la media y la varianza del observable en el estado dado."
   ]
  },
  {
   "cell_type": "code",
   "execution_count": null,
   "id": "a7cc9c5d-0d3f-4d30-a3d3-cdf867ab204b",
   "metadata": {},
   "outputs": [],
   "source": [
    "def hermitiana(observable, ket):\n",
    "\n",
    "    transicion = np.dot(np.conj(p2), p1)\n",
    "        \n",
    "    media = np.dot(np.conj(ket).T, np.dot(observable, ket)).real\n",
    "    \n",
    "    varianza = np.dot(np.conj(ket).T, np.dot(observable*2, ket)).real - media*2\n",
    "\n",
    "    return media, varianza\n",
    "\n",
    "    if not transicion:\n",
    "        return \"La matriz no es hermitiana\""
   ]
  }
 ],
 "metadata": {
  "kernelspec": {
   "display_name": "Python 3 (ipykernel)",
   "language": "python",
   "name": "python3"
  },
  "language_info": {
   "codemirror_mode": {
    "name": "ipython",
    "version": 3
   },
   "file_extension": ".py",
   "mimetype": "text/x-python",
   "name": "python",
   "nbconvert_exporter": "python",
   "pygments_lexer": "ipython3",
   "version": "3.11.1"
  }
 },
 "nbformat": 4,
 "nbformat_minor": 5
}
